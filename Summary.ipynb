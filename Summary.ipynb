{
 "cells": [
  {
   "cell_type": "markdown",
   "id": "critical-canyon",
   "metadata": {},
   "source": [
    "|     Way                         | 3 cores VM  |   4 cores     |  32 cores   |   6 cores   |\n",
    "| :---                            |    :----:   |     :----:    |    :----:   |        ---: |\n",
    "| Initial version                 | 476         | 886           | 951         | 579         |\n",
    "| Final version                   | 77          | 127           | 102         | 84          |\n",
    "| Total speed up                  | 6.2         | 7.0           | 9.5         | 6.9         |"
   ]
  },
  {
   "cell_type": "markdown",
   "id": "persistent-inflation",
   "metadata": {},
   "source": [
    "4 cores: laptop (I7 8550U (1.8 GHz in 4-cores mode / 4 GHz in 1-core mode), Ubuntu 20.04)\n",
    "\n",
    "6 cores: computer (Ryzen 5 3500x, Windows 10)\n",
    "\n",
    "32 cores: computer (2 x E5-2697A v4 @ 2.60GHz (Turboboost 3.6 GHz), Ubuntu 16.04)\n",
    "\n",
    "3 cores (threads on VM): (Ryzen 5 3500x, Ubuntu 20.10)"
   ]
  },
  {
   "cell_type": "code",
   "execution_count": null,
   "id": "demographic-expense",
   "metadata": {},
   "outputs": [],
   "source": []
  }
 ],
 "metadata": {
  "kernelspec": {
   "display_name": "Python 3",
   "language": "python",
   "name": "python3"
  },
  "language_info": {
   "codemirror_mode": {
    "name": "ipython",
    "version": 3
   },
   "file_extension": ".py",
   "mimetype": "text/x-python",
   "name": "python",
   "nbconvert_exporter": "python",
   "pygments_lexer": "ipython3",
   "version": "3.8.6"
  }
 },
 "nbformat": 4,
 "nbformat_minor": 5
}
