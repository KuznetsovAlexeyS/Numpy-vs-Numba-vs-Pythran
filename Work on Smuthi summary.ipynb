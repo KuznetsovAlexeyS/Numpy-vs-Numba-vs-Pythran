{
 "cells": [
  {
   "cell_type": "markdown",
   "id": "critical-canyon",
   "metadata": {},
   "source": [
    "|     Way                         | 3 cores VM  |   4 cores     |  32 cores   |   6 cores   |\n",
    "| :---                            |    :----:   |     :----:    |    :----:   |        ---: |\n",
    "| Initial version                 | 476         | 886           | 951         | 579         |\n",
    "| Final version                   | 77          | 127           | 102         | 84          |\n",
    "| Total speed up                  | 6.2         | 7.0           | 9.5         | 6.9         |"
   ]
  },
  {
   "cell_type": "markdown",
   "id": "persistent-inflation",
   "metadata": {},
   "source": [
    "Here you can see execution time for the same dataset on different processors. The cores are:\n",
    "\n",
    "4 cores: laptop (I7 8550U (1.8 GHz in 4-cores mode / 4 GHz in 1-core mode), Ubuntu 20.04)\n",
    "\n",
    "6 cores: computer (Ryzen 5 3500x, Windows 10)\n",
    "\n",
    "32 cores: computer (2 x E5-2697A v4 @ 2.60GHz (Turboboost 3.6 GHz), Ubuntu 16.04)\n",
    "\n",
    "3 cores (threads on VM): (Ryzen 5 3500x, Ubuntu 20.10)\n",
    "\n",
    "Here Windows uses Numba acceleration only, while implementation in Linux also works with multiprocessing.Parallel. More detailed results can be found in Exp-welding file."
   ]
  },
  {
   "cell_type": "markdown",
   "id": "comparative-helping",
   "metadata": {},
   "source": [
    "Pythran doesn't work much faster than Numba (and sometimes even slower), but can be paralleled quite well. \n",
    "At the same time it requires too complex platform-depending (hello, Windows!) infrastructure to be included in big projects, but it seems like a good idea to use to accelerate our own processings, especially if our processor has many cores."
   ]
  },
  {
   "cell_type": "code",
   "execution_count": null,
   "id": "personalized-stable",
   "metadata": {},
   "outputs": [],
   "source": []
  }
 ],
 "metadata": {
  "kernelspec": {
   "display_name": "Python 3",
   "language": "python",
   "name": "python3"
  },
  "language_info": {
   "codemirror_mode": {
    "name": "ipython",
    "version": 3
   },
   "file_extension": ".py",
   "mimetype": "text/x-python",
   "name": "python",
   "nbconvert_exporter": "python",
   "pygments_lexer": "ipython3",
   "version": "3.8.6"
  }
 },
 "nbformat": 4,
 "nbformat_minor": 5
}
