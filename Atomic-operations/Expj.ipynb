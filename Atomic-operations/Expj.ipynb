{
 "cells": [
  {
   "cell_type": "code",
   "execution_count": 1,
   "metadata": {},
   "outputs": [],
   "source": [
    "import pythran\n",
    "%load_ext pythran.magic"
   ]
  },
  {
   "cell_type": "code",
   "execution_count": 2,
   "metadata": {},
   "outputs": [],
   "source": [
    "def get_complex_random_array(dimensions):\n",
    "    real_part = np.random.rand(*dimensions)\n",
    "    imaginary_part = np.random.rand(*dimensions)\n",
    "    complex_array = real_part + imaginary_part * 1.0j\n",
    "    return complex_array"
   ]
  },
  {
   "cell_type": "code",
   "execution_count": 3,
   "metadata": {},
   "outputs": [],
   "source": [
    "%%pythran -fopenmp -Ofast\n",
    "#pythran export pythran_exp_1j(complex64[:, :, :])\n",
    "\n",
    "def pythran_exp_1j(prototype):\n",
    "    import numpy as np\n",
    "    shape = prototype.shape\n",
    "    result = np.zeros((shape[0], shape[1], shape[2]), dtype=np.complex64)\n",
    "    \"omp parallel for\"\n",
    "    for i in range(shape[0]):\n",
    "        for j in range(shape[1]):\n",
    "            for k in range(shape[2]):\n",
    "                result[i, j, k] = (np.cos(prototype[i, j, k].real) + 1.0j*np.sin(prototype[i, j, k].real)) * \\\n",
    "                                                            np.exp(-prototype[i, j, k].imag)\n",
    "\n",
    "    return result"
   ]
  },
  {
   "cell_type": "code",
   "execution_count": 4,
   "metadata": {},
   "outputs": [],
   "source": [
    "import numpy as np\n",
    "from numba import complex64, prange, jit, types\n",
    "\n",
    "@jit(['complex64[:, :, :](complex64[:, :, :])'],\n",
    "     nopython=True, cache=True, nogil=True, fastmath=True, parallel=True)\n",
    "def numba_exp_1j(prototype):\n",
    "    shape = prototype.shape\n",
    "    result = np.zeros((shape[0], shape[1], shape[2]), dtype=np.complex64)\n",
    "    for i in prange(shape[0]):\n",
    "        for j in range(shape[1]):\n",
    "            for k in range(shape[2]):\n",
    "                result[i, j, k] = (np.cos(prototype[i, j, k].real) + 1.0j*np.sin(prototype[i, j, k].real)) * \\\n",
    "                                                            np.exp(-prototype[i, j, k].imag)\n",
    "\n",
    "    return result"
   ]
  },
  {
   "cell_type": "code",
   "execution_count": 5,
   "metadata": {},
   "outputs": [],
   "source": [
    "def numpy_exp_1j(prototype):\n",
    "    return np.exp(1j * prototype)"
   ]
  },
  {
   "cell_type": "code",
   "execution_count": 7,
   "metadata": {},
   "outputs": [
    {
     "name": "stdout",
     "output_type": "stream",
     "text": [
      "\u001b[39mrunning build\u001b[0m\n",
      "\u001b[39mrunning config_cc\u001b[0m\n",
      "\u001b[39munifing config_cc, config, build_clib, build_ext, build commands --compiler options\u001b[0m\n",
      "\u001b[39mrunning config_fc\u001b[0m\n",
      "\u001b[39munifing config_fc, config, build_clib, build_ext, build commands --fcompiler options\u001b[0m\n",
      "\u001b[39mrunning build_src\u001b[0m\n",
      "\u001b[39mbuild_src\u001b[0m\n",
      "\u001b[39mbuilding extension \"expj\" sources\u001b[0m\n",
      "\u001b[39mf2py options: []\u001b[0m\n",
      "\u001b[39mf2py:> /tmp/tmpsh9mosen/src.linux-x86_64-3.8/expjmodule.c\u001b[0m\n",
      "\u001b[39mcreating /tmp/tmpsh9mosen/src.linux-x86_64-3.8\u001b[0m\n",
      "Reading fortran codes...\n",
      "\tReading file 'expj.f90' (format:free)\n",
      "Post-processing...\n",
      "\tBlock: expj\n",
      "\t\t\tBlock: expj_external_module\n",
      "In: :expj:expj.f90:expj_external_module\n",
      "get_useparameters: no module omp_lib info used by expj_external_module\n",
      "Post-processing (stage 2)...\n",
      "Building modules...\n",
      "\tBuilding module \"expj\"...\n",
      "\t\tCreating wrapper for Fortran subroutine \"expj_external_module\"(\"expj_external_module\")...\n",
      "\t\tConstructing wrapper function \"expj_external_module\"...\n",
      "\t\t  expj_external_module(source,result)\n",
      "\tWrote C/API module \"expj\" to file \"/tmp/tmpsh9mosen/src.linux-x86_64-3.8/expjmodule.c\"\n",
      "\tFortran 90 wrappers are saved to \"/tmp/tmpsh9mosen/src.linux-x86_64-3.8/expj-f2pywrappers2.f90\"\n",
      "\u001b[39m  adding '/tmp/tmpsh9mosen/src.linux-x86_64-3.8/fortranobject.c' to sources.\u001b[0m\n",
      "\u001b[39m  adding '/tmp/tmpsh9mosen/src.linux-x86_64-3.8' to include_dirs.\u001b[0m\n",
      "\u001b[39mcopying /home/rnd/.local/lib/python3.8/site-packages/numpy/f2py/src/fortranobject.c -> /tmp/tmpsh9mosen/src.linux-x86_64-3.8\u001b[0m\n",
      "\u001b[39mcopying /home/rnd/.local/lib/python3.8/site-packages/numpy/f2py/src/fortranobject.h -> /tmp/tmpsh9mosen/src.linux-x86_64-3.8\u001b[0m\n",
      "\u001b[39m  adding '/tmp/tmpsh9mosen/src.linux-x86_64-3.8/expj-f2pywrappers2.f90' to sources.\u001b[0m\n",
      "\u001b[39mbuild_src: building npy-pkg config files\u001b[0m\n",
      "\u001b[39mrunning build_ext\u001b[0m\n",
      "\u001b[39mcustomize UnixCCompiler\u001b[0m\n",
      "\u001b[39mcustomize UnixCCompiler using build_ext\u001b[0m\n",
      "\u001b[39mget_default_fcompiler: matching types: '['gnu95', 'intel', 'lahey', 'pg', 'nv', 'absoft', 'nag', 'vast', 'compaq', 'intele', 'intelem', 'gnu', 'g95', 'pathf95', 'nagfor', 'fujitsu']'\u001b[0m\n",
      "\u001b[39mcustomize Gnu95FCompiler\u001b[0m\n",
      "\u001b[39mFound executable /usr/bin/gfortran\u001b[0m\n",
      "\u001b[39mcustomize Gnu95FCompiler\u001b[0m\n",
      "\u001b[39mcustomize Gnu95FCompiler using build_ext\u001b[0m\n",
      "\u001b[39mbuilding 'expj' extension\u001b[0m\n",
      "\u001b[39mcompiling C sources\u001b[0m\n",
      "\u001b[39mC compiler: x86_64-linux-gnu-gcc -pthread -Wno-unused-result -Wsign-compare -DNDEBUG -g -fwrapv -O2 -Wall -g -fstack-protector-strong -Wformat -Werror=format-security -g -fwrapv -O2 -g -fstack-protector-strong -Wformat -Werror=format-security -Wdate-time -D_FORTIFY_SOURCE=2 -fPIC\n",
      "\u001b[0m\n",
      "\u001b[39mcreating /tmp/tmpsh9mosen/tmp\u001b[0m\n",
      "\u001b[39mcreating /tmp/tmpsh9mosen/tmp/tmpsh9mosen\u001b[0m\n",
      "\u001b[39mcreating /tmp/tmpsh9mosen/tmp/tmpsh9mosen/src.linux-x86_64-3.8\u001b[0m\n",
      "\u001b[39mcompile options: '-DNPY_DISABLE_OPTIMIZATION=1 -I/tmp/tmpsh9mosen/src.linux-x86_64-3.8 -I/home/rnd/.local/lib/python3.8/site-packages/numpy/core/include -I/usr/include/python3.8 -c'\u001b[0m\n",
      "\u001b[39mx86_64-linux-gnu-gcc: /tmp/tmpsh9mosen/src.linux-x86_64-3.8/fortranobject.c\u001b[0m\n",
      "\u001b[39mx86_64-linux-gnu-gcc: /tmp/tmpsh9mosen/src.linux-x86_64-3.8/expjmodule.c\u001b[0m\n",
      "In file included from \u001b[01m\u001b[K/home/rnd/.local/lib/python3.8/site-packages/numpy/core/include/numpy/ndarraytypes.h:1944\u001b[m\u001b[K,\n",
      "                 from \u001b[01m\u001b[K/home/rnd/.local/lib/python3.8/site-packages/numpy/core/include/numpy/ndarrayobject.h:12\u001b[m\u001b[K,\n",
      "                 from \u001b[01m\u001b[K/home/rnd/.local/lib/python3.8/site-packages/numpy/core/include/numpy/arrayobject.h:4\u001b[m\u001b[K,\n",
      "                 from \u001b[01m\u001b[K/tmp/tmpsh9mosen/src.linux-x86_64-3.8/fortranobject.h:13\u001b[m\u001b[K,\n",
      "                 from \u001b[01m\u001b[K/tmp/tmpsh9mosen/src.linux-x86_64-3.8/fortranobject.c:2\u001b[m\u001b[K:\n",
      "\u001b[01m\u001b[K/home/rnd/.local/lib/python3.8/site-packages/numpy/core/include/numpy/npy_1_7_deprecated_api.h:17:2:\u001b[m\u001b[K \u001b[01;35m\u001b[Kwarning: \u001b[m\u001b[K#warning \"Using deprecated NumPy API, disable it with \" \"#define NPY_NO_DEPRECATED_API NPY_1_7_API_VERSION\" [\u001b[01;35m\u001b[K\u001b]8;;https://gcc.gnu.org/onlinedocs/gcc/Warning-Options.html#index-Wcpp\u0007-Wcpp\u001b]8;;\u0007\u001b[m\u001b[K]\n",
      "   17 | #\u001b[01;35m\u001b[Kwarning\u001b[m\u001b[K \"Using deprecated NumPy API, disable it with \" \\\n",
      "      |  \u001b[01;35m\u001b[K^~~~~~~\u001b[m\u001b[K\n",
      "In file included from \u001b[01m\u001b[K/home/rnd/.local/lib/python3.8/site-packages/numpy/core/include/numpy/ndarraytypes.h:1944\u001b[m\u001b[K,\n",
      "                 from \u001b[01m\u001b[K/home/rnd/.local/lib/python3.8/site-packages/numpy/core/include/numpy/ndarrayobject.h:12\u001b[m\u001b[K,\n",
      "                 from \u001b[01m\u001b[K/home/rnd/.local/lib/python3.8/site-packages/numpy/core/include/numpy/arrayobject.h:4\u001b[m\u001b[K,\n",
      "                 from \u001b[01m\u001b[K/tmp/tmpsh9mosen/src.linux-x86_64-3.8/fortranobject.h:13\u001b[m\u001b[K,\n",
      "                 from \u001b[01m\u001b[K/tmp/tmpsh9mosen/src.linux-x86_64-3.8/expjmodule.c:16\u001b[m\u001b[K:\n",
      "\u001b[01m\u001b[K/home/rnd/.local/lib/python3.8/site-packages/numpy/core/include/numpy/npy_1_7_deprecated_api.h:17:2:\u001b[m\u001b[K \u001b[01;35m\u001b[Kwarning: \u001b[m\u001b[K#warning \"Using deprecated NumPy API, disable it with \" \"#define NPY_NO_DEPRECATED_API NPY_1_7_API_VERSION\" [\u001b[01;35m\u001b[K\u001b]8;;https://gcc.gnu.org/onlinedocs/gcc/Warning-Options.html#index-Wcpp\u0007-Wcpp\u001b]8;;\u0007\u001b[m\u001b[K]\n",
      "   17 | #\u001b[01;35m\u001b[Kwarning\u001b[m\u001b[K \"Using deprecated NumPy API, disable it with \" \\\n",
      "      |  \u001b[01;35m\u001b[K^~~~~~~\u001b[m\u001b[K\n",
      "\u001b[01m\u001b[K/tmp/tmpsh9mosen/src.linux-x86_64-3.8/expjmodule.c:137:12:\u001b[m\u001b[K \u001b[01;35m\u001b[Kwarning: \u001b[m\u001b[K‘\u001b[01m\u001b[Kf2py_size\u001b[m\u001b[K’ defined but not used [\u001b[01;35m\u001b[K\u001b]8;;https://gcc.gnu.org/onlinedocs/gcc/Warning-Options.html#index-Wunused-function\u0007-Wunused-function\u001b]8;;\u0007\u001b[m\u001b[K]\n",
      "  137 | static int \u001b[01;35m\u001b[Kf2py_size\u001b[m\u001b[K(PyArrayObject* var, ...)\n",
      "      |            \u001b[01;35m\u001b[K^~~~~~~~~\u001b[m\u001b[K\n",
      "\u001b[39mcompiling Fortran sources\u001b[0m\n",
      "\u001b[39mFortran f77 compiler: /usr/bin/gfortran -Wall -g -ffixed-form -fno-second-underscore -fPIC -O3 -funroll-loops\n",
      "Fortran f90 compiler: /usr/bin/gfortran -Ofast -lgomp -fopenmp -fPIC -O3 -funroll-loops\n",
      "Fortran fix compiler: /usr/bin/gfortran -Wall -g -ffixed-form -fno-second-underscore -Ofast -lgomp -fopenmp -fPIC -O3 -funroll-loops\u001b[0m\n",
      "\u001b[39mcompile options: '-I/tmp/tmpsh9mosen/src.linux-x86_64-3.8 -I/home/rnd/.local/lib/python3.8/site-packages/numpy/core/include -I/usr/include/python3.8 -c'\u001b[0m\n",
      "\u001b[39mgfortran:f90: expj.f90\u001b[0m\n",
      "\u001b[39mgfortran:f90: /tmp/tmpsh9mosen/src.linux-x86_64-3.8/expj-f2pywrappers2.f90\u001b[0m\n",
      "\u001b[39m/usr/bin/gfortran -Wall -g -Wall -g -shared /tmp/tmpsh9mosen/tmp/tmpsh9mosen/src.linux-x86_64-3.8/expjmodule.o /tmp/tmpsh9mosen/tmp/tmpsh9mosen/src.linux-x86_64-3.8/fortranobject.o /tmp/tmpsh9mosen/expj.o /tmp/tmpsh9mosen/tmp/tmpsh9mosen/src.linux-x86_64-3.8/expj-f2pywrappers2.o -L/usr/lib/gcc/x86_64-linux-gnu/10 -L/usr/lib/gcc/x86_64-linux-gnu/10 -lgomp -lgfortran -o ./expj.cpython-38-x86_64-linux-gnu.so\u001b[0m\n",
      "Removing build directory /tmp/tmpsh9mosen\n"
     ]
    }
   ],
   "source": [
    "!python3 -m numpy.f2py --f90flags='-Ofast -lgomp -fopenmp' -lgomp -c expj.f90 -m expj"
   ]
  },
  {
   "cell_type": "code",
   "execution_count": 13,
   "metadata": {},
   "outputs": [
    {
     "name": "stdout",
     "output_type": "stream",
     "text": [
      "numpy time:  0:00:22.749066\n",
      "pythran time:  0:00:04.340731\n",
      "numba time:  0:00:41.621528\n",
      "fortran time:  0:00:19.101882\n",
      "pythran speed up =  5.240837545565482\n",
      "numba speed up =  0.5465696982580746\n",
      "fortran speed up =  1.1909332284640854\n"
     ]
    }
   ],
   "source": [
    "import datetime\n",
    "import numpy as np\n",
    "import expj\n",
    "\n",
    "def test_exponents():\n",
    "    numpy_time = []\n",
    "    pythran_time = []\n",
    "    numba_time = []\n",
    "    fortran_time = []\n",
    "    for i in range(100):\n",
    "        prototype = get_complex_random_array((50, 300, 710)).astype(np.complex64)\n",
    "        fortran_result = np.zeros((50, 300, 710)).astype(np.complex64)\n",
    "\n",
    "        #numpy test zone\n",
    "        numpy_start = datetime.datetime.now()\n",
    "        res = numpy_exp_1j(prototype)\n",
    "        numpy_end = datetime.datetime.now()\n",
    "        numpy_time.append(numpy_end - numpy_start)\n",
    "\n",
    "        #pythran test zone\n",
    "        pythran_start = datetime.datetime.now()\n",
    "        res = pythran_exp_1j(prototype)\n",
    "        pythran_end = datetime.datetime.now()\n",
    "        pythran_time.append(pythran_end - pythran_start)\n",
    "        \n",
    "        #numba test zone\n",
    "        numba_start = datetime.datetime.now()\n",
    "        res = numba_exp_1j(prototype)\n",
    "        numba_end = datetime.datetime.now()\n",
    "        numba_time.append(numba_end - numba_start)\n",
    "        \n",
    "        #fortran test zone\n",
    "        fortran_start = datetime.datetime.now()\n",
    "        expj.expj_external_module(prototype, fortran_result)\n",
    "        fortran_end = datetime.datetime.now()\n",
    "        fortran_time.append(fortran_end - fortran_start)\n",
    "        \n",
    "\n",
    "    print('numpy time: ', np.sum(numpy_time))\n",
    "    print('pythran time: ', np.sum(pythran_time))\n",
    "    print('numba time: ', np.sum(numba_time))\n",
    "    print('fortran time: ', np.sum(fortran_time))\n",
    "    \n",
    "    print('pythran speed up = ', np.sum(numpy_time) / np.sum(pythran_time))\n",
    "    print('numba speed up = ', np.sum(numpy_time) / np.sum(numba_time))\n",
    "    print('fortran speed up = ', np.sum(numpy_time) / np.sum(fortran_time))\n",
    "    \n",
    "test_exponents()"
   ]
  },
  {
   "cell_type": "code",
   "execution_count": 3,
   "metadata": {},
   "outputs": [
    {
     "name": "stdout",
     "output_type": "stream",
     "text": [
      "   3.62774706    \r\n"
     ]
    }
   ],
   "source": [
    "!mpifort -Ofast -fopenmp expj_internal.f90\n",
    "!./a.out"
   ]
  },
  {
   "cell_type": "markdown",
   "metadata": {},
   "source": [
    "In expj_internal.f90 we have the same parameters ((50, 300, 710) array for 100 times) and have the same value to output (counting time), so the result from above can be compared with others."
   ]
  },
  {
   "cell_type": "code",
   "execution_count": null,
   "metadata": {},
   "outputs": [],
   "source": []
  }
 ],
 "metadata": {
  "kernelspec": {
   "display_name": "Python 3",
   "language": "python",
   "name": "python3"
  },
  "language_info": {
   "codemirror_mode": {
    "name": "ipython",
    "version": 3
   },
   "file_extension": ".py",
   "mimetype": "text/x-python",
   "name": "python",
   "nbconvert_exporter": "python",
   "pygments_lexer": "ipython3",
   "version": "3.8.6"
  }
 },
 "nbformat": 4,
 "nbformat_minor": 1
}
