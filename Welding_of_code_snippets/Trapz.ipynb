{
 "cells": [
  {
   "cell_type": "code",
   "execution_count": 1,
   "metadata": {},
   "outputs": [],
   "source": [
    "import pythran\n",
    "%load_ext pythran.magic"
   ]
  },
  {
   "cell_type": "code",
   "execution_count": 2,
   "metadata": {},
   "outputs": [],
   "source": [
    "def get_complex_random_array(dimensions):\n",
    "    import numpy as np\n",
    "    real_part = np.random.rand(*dimensions)\n",
    "    imaginary_part = np.random.rand(*dimensions)\n",
    "    complex_array = real_part + imaginary_part * 1.0j\n",
    "    return complex_array"
   ]
  },
  {
   "cell_type": "code",
   "execution_count": 3,
   "metadata": {},
   "outputs": [],
   "source": [
    "%%pythran -fopenmp -Ofast\n",
    "#pythran export pythran_trapz_3dim_array(complex64[:, :, :], float64[:])\n",
    "\n",
    "def pythran_trapz_3dim_array(y, x):\n",
    "    import numpy as np \n",
    "    shape = y.shape\n",
    "    result = np.zeros((shape[0], shape[1]), dtype=type(y[0, 0, 0]))\n",
    "    \"omp parallel for\"\n",
    "    for i in range(shape[0]):\n",
    "        for j in range(shape[1]):\n",
    "            out = .0 + .0j\n",
    "            for k in range(len(y[i, j]) - 1):\n",
    "                out += (x[k+1]-x[k]) * (y[i, j, k+1] + y[i, j, k])/2.0\n",
    "            result[i, j] = out\n",
    "\n",
    "    return result"
   ]
  },
  {
   "cell_type": "code",
   "execution_count": 4,
   "metadata": {},
   "outputs": [],
   "source": [
    "import numpy as np\n",
    "from numba import complex64, prange, jit, types\n",
    "\n",
    "@jit(['complex64[:, :](complex64[:, :, :], float64[:])', \n",
    "        'complex128[:, :](complex128[:, :, :], float64[:])'],\n",
    "     nopython=True, cache=True, nogil=True, parallel=True, fastmath=True)\n",
    "def numba_trapz_3dim_array(y, x):\n",
    "    shape = y.shape\n",
    "    result = np.zeros((shape[0], shape[1]), dtype=type(y[0, 0, 0]))\n",
    "    for i in prange(shape[0]):\n",
    "        for j in range(shape[1]):\n",
    "            out = .0 + .0j\n",
    "            for k in range(len(y[i, j]) - 1):\n",
    "                out += (x[k+1]-x[k]) * (y[i, j, k+1] + y[i, j, k])/2.0\n",
    "            result[i, j] = out\n",
    "\n",
    "    return result"
   ]
  },
  {
   "cell_type": "code",
   "execution_count": 5,
   "metadata": {},
   "outputs": [],
   "source": [
    "def numpy_trapz_3dim_array(y, x):\n",
    "    import numpy as np\n",
    "    return np.trapz(y, x)"
   ]
  },
  {
   "cell_type": "code",
   "execution_count": 6,
   "metadata": {},
   "outputs": [
    {
     "name": "stdout",
     "output_type": "stream",
     "text": [
      "numpy time:  0:00:08.915986\n",
      "pythran time:  0:00:00.440993\n",
      "numba time:  0:00:00.373639\n",
      "pythran speed up =  20.217976249056107\n",
      "numba speed up =  23.86256787969136\n"
     ]
    }
   ],
   "source": [
    "import datetime\n",
    "import numpy as np\n",
    "\n",
    "def test_trapz():\n",
    "    numpy_time = []\n",
    "    pythran_time = []\n",
    "    numba_time = []\n",
    "    for i in range(100):\n",
    "        x = np.random.rand(710).astype(np.float64)\n",
    "        y = get_complex_random_array((50, 300, 710)).astype(np.complex64)\n",
    "\n",
    "        #numpy test zone\n",
    "        numpy_start = datetime.datetime.now()\n",
    "        res = numpy_trapz_3dim_array(y, x)\n",
    "        numpy_end = datetime.datetime.now()\n",
    "        numpy_time.append(numpy_end - numpy_start)\n",
    "\n",
    "        #pythran test zone\n",
    "        pythran_start = datetime.datetime.now()\n",
    "        res = pythran_trapz_3dim_array(y, x)\n",
    "        pythran_end = datetime.datetime.now()\n",
    "        pythran_time.append(pythran_end - pythran_start)\n",
    "        \n",
    "        #numba test zone\n",
    "        numba_start = datetime.datetime.now()\n",
    "        res = numba_trapz_3dim_array(y, x)\n",
    "        numba_end = datetime.datetime.now()\n",
    "        numba_time.append(numba_end - numba_start)\n",
    "        \n",
    "    print('numpy time: ', np.sum(numpy_time))\n",
    "    print('pythran time: ', np.sum(pythran_time))\n",
    "    print('numba time: ', np.sum(numba_time))\n",
    "\n",
    "    print('pythran speed up = ', np.sum(numpy_time) / np.sum(pythran_time))\n",
    "    print('numba speed up = ', np.sum(numpy_time) / np.sum(numba_time))\n",
    "    \n",
    "    \n",
    "test_trapz()"
   ]
  },
  {
   "cell_type": "code",
   "execution_count": null,
   "metadata": {},
   "outputs": [],
   "source": []
  }
 ],
 "metadata": {
  "kernelspec": {
   "display_name": "Python 3",
   "language": "python",
   "name": "python3"
  },
  "language_info": {
   "codemirror_mode": {
    "name": "ipython",
    "version": 3
   },
   "file_extension": ".py",
   "mimetype": "text/x-python",
   "name": "python",
   "nbconvert_exporter": "python",
   "pygments_lexer": "ipython3",
   "version": "3.8.6"
  }
 },
 "nbformat": 4,
 "nbformat_minor": 1
}
