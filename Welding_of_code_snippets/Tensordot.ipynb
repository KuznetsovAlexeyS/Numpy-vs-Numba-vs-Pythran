{
 "cells": [
  {
   "cell_type": "code",
   "execution_count": 1,
   "metadata": {},
   "outputs": [],
   "source": [
    "import pythran\n",
    "%load_ext pythran.magic"
   ]
  },
  {
   "cell_type": "code",
   "execution_count": 2,
   "metadata": {},
   "outputs": [],
   "source": [
    "def get_complex_random_array(dimensions):\n",
    "    import numpy as np\n",
    "    real_part = np.random.rand(*dimensions)\n",
    "    imaginary_part = np.random.rand(*dimensions)\n",
    "    complex_array = real_part + imaginary_part * 1.0j\n",
    "    return complex_array"
   ]
  },
  {
   "cell_type": "code",
   "execution_count": 10,
   "metadata": {},
   "outputs": [],
   "source": [
    "import numpy as np\n",
    "from numba import complex64, prange, jit, types\n",
    "\n",
    "@jit(['complex64[:, :, :] (float32[:], float32[:], float32[:], \\\n",
    "                                        complex64[:, :], complex64[:, :], complex64[:, :])',\n",
    "      'complex128[:, :, :] (float64[:], float64[:], float64[:], \\\n",
    "                                        complex128[:, :], complex128[:, :], complex128[:, :])'],\n",
    "     nopython=True, cache=True, nogil=True, parallel=True, fastmath=True)\n",
    "def numba_tensordots(x_float_1dim, y_float_1dim, z_float_1dim, \\\n",
    "                        x_complex_2dim, y_complex_2dim, z_complex_2dim):\n",
    "\n",
    "    first_shape = x_float_1dim.shape\n",
    "    second_shape = x_complex_2dim.shape\n",
    "    result = np.zeros((first_shape[0], second_shape[0], second_shape[1]), dtype=type(x_complex_2dim[0, 0]))\n",
    "    for i in prange(first_shape[0]):\n",
    "        for j in range(second_shape[0]):\n",
    "            for k in range(second_shape[1]):\n",
    "                result[i, j, k] = x_float_1dim[i] * x_complex_2dim[j, k] + \\\n",
    "                                    y_float_1dim[i] * y_complex_2dim[j, k] + \\\n",
    "                                        z_float_1dim[i] * z_complex_2dim[j, k]\n",
    "\n",
    "    return result"
   ]
  },
  {
   "cell_type": "code",
   "execution_count": 4,
   "metadata": {},
   "outputs": [],
   "source": [
    "%%pythran -fopenmp -Ofast\n",
    "#pythran export pythran_tensordots(float32[:], float32[:], float32[:], complex64[:, :], complex64[:, :], complex64[:, :]))\n",
    "\n",
    "def pythran_tensordots(x_float_1dim, y_float_1dim, z_float_1dim, \\\n",
    "                        x_complex_2dim, y_complex_2dim, z_complex_2dim):\n",
    "    import numpy as np\n",
    "    first_shape = x_float_1dim.shape\n",
    "    second_shape = x_complex_2dim.shape\n",
    "    result = np.zeros((first_shape[0], second_shape[0], second_shape[1]), dtype=type(x_complex_2dim[0, 0]))\n",
    "    \"omp parallel for\"\n",
    "    for i in range(first_shape[0]):\n",
    "        for j in range(second_shape[0]):\n",
    "            for k in range(second_shape[1]):\n",
    "                result[i, j, k] = x_float_1dim[i] * x_complex_2dim[j, k] + \\\n",
    "                                    y_float_1dim[i] * y_complex_2dim[j, k] + \\\n",
    "                                        z_float_1dim[i] * z_complex_2dim[j, k]\n",
    "\n",
    "    return result"
   ]
  },
  {
   "cell_type": "code",
   "execution_count": 5,
   "metadata": {},
   "outputs": [],
   "source": [
    "def numpy_tensordots(x_float_1dim, y_float_1dim, z_float_1dim, \\\n",
    "                        x_complex_2dim, y_complex_2dim, z_complex_2dim):\n",
    "    result = np.tensordot(x_float_1dim, x_complex_2dim, axes=0)\n",
    "    result += np.tensordot(y_float_1dim, y_complex_2dim, axes=0)\n",
    "    result += np.tensordot(z_float_1dim, z_complex_2dim, axes=0)\n",
    "    \n",
    "    return result"
   ]
  },
  {
   "cell_type": "code",
   "execution_count": 11,
   "metadata": {},
   "outputs": [
    {
     "name": "stdout",
     "output_type": "stream",
     "text": [
      "numpy time:  0:00:08.694998\n",
      "pythran time:  0:00:02.668248\n",
      "numba time:  0:00:06.040465\n",
      "pythran speed up =  3.2586918457354788\n",
      "numba speed up =  1.43945838606796\n"
     ]
    }
   ],
   "source": [
    "import datetime\n",
    "import numpy as np\n",
    "\n",
    "def test_tensordots():\n",
    "    numpy_time = []\n",
    "    pythran_time = []\n",
    "    numba_time = []\n",
    "    for i in range(100):\n",
    "        float_1dim_x = np.random.rand(50).astype(np.float32)\n",
    "        float_1dim_y = np.random.rand(50).astype(np.float32)\n",
    "        float_1dim_z = np.random.rand(50).astype(np.float32)\n",
    "        complex_2dim_x = get_complex_random_array((300, 710)).astype(np.complex64)\n",
    "        complex_2dim_y = get_complex_random_array((300, 710)).astype(np.complex64)\n",
    "        complex_2dim_z = get_complex_random_array((300, 710)).astype(np.complex64)\n",
    "\n",
    "        #numpy test zone\n",
    "        numpy_start = datetime.datetime.now()\n",
    "        res = numpy_tensordots(float_1dim_x, float_1dim_y, float_1dim_z, \\\n",
    "                        complex_2dim_x, complex_2dim_y, complex_2dim_z)\n",
    "        numpy_end = datetime.datetime.now()\n",
    "        numpy_time.append(numpy_end - numpy_start)\n",
    "\n",
    "        #pythran test zone\n",
    "        pythran_start = datetime.datetime.now()\n",
    "        res = pythran_tensordots(float_1dim_x, float_1dim_y, float_1dim_z, \\\n",
    "                        complex_2dim_x, complex_2dim_y, complex_2dim_z)\n",
    "        pythran_end = datetime.datetime.now()\n",
    "        pythran_time.append(pythran_end - pythran_start)\n",
    "        \n",
    "        #numba test zone\n",
    "        numba_start = datetime.datetime.now()\n",
    "        res = numba_tensordots(float_1dim_x, float_1dim_y, float_1dim_z, \\\n",
    "                        complex_2dim_x, complex_2dim_y, complex_2dim_z)\n",
    "        numba_end = datetime.datetime.now()\n",
    "        numba_time.append(numba_end - numba_start)\n",
    "        \n",
    "    print('numpy time: ', np.sum(numpy_time))\n",
    "    print('pythran time: ', np.sum(pythran_time))\n",
    "    print('numba time: ', np.sum(numba_time))\n",
    "\n",
    "    print('pythran speed up = ', np.sum(numpy_time) / np.sum(pythran_time))\n",
    "    print('numba speed up = ', np.sum(numpy_time) / np.sum(numba_time))\n",
    "    \n",
    "    \n",
    "test_tensordots()"
   ]
  },
  {
   "cell_type": "code",
   "execution_count": null,
   "metadata": {},
   "outputs": [],
   "source": []
  },
  {
   "cell_type": "code",
   "execution_count": null,
   "metadata": {},
   "outputs": [],
   "source": []
  }
 ],
 "metadata": {
  "kernelspec": {
   "display_name": "Python 3",
   "language": "python",
   "name": "python3"
  },
  "language_info": {
   "codemirror_mode": {
    "name": "ipython",
    "version": 3
   },
   "file_extension": ".py",
   "mimetype": "text/x-python",
   "name": "python",
   "nbconvert_exporter": "python",
   "pygments_lexer": "ipython3",
   "version": "3.8.6"
  }
 },
 "nbformat": 4,
 "nbformat_minor": 1
}
